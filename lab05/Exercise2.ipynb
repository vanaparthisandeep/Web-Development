{
 "cells": [
  {
   "cell_type": "code",
   "execution_count": 15,
   "id": "7bd4cb20",
   "metadata": {},
   "outputs": [
    {
     "name": "stdout",
     "output_type": "stream",
     "text": [
      "Name: SANDEEP VANAPARTHI\n",
      "Blazer ID: SVANAPAR\n",
      "\n",
      "[{'id': 1, 'problem': '3 + 5?'}, {'id': 2, 'problem': '7 * 6?'}, {'id': 3, 'problem': '20 / 5?'}, {'id': 4, 'problem': '20 / 4?'}, {'id': 5, 'problem': '15 - 7?'}, {'id': 6, 'problem': '9 * 9?'}, {'id': 7, 'problem': '27 / 9?'}, {'id': 8, 'problem': '100 - 56?'}, {'id': 9, 'problem': '14 + 26?'}, {'id': 10, 'problem': '64 / 8?'}]\n",
      "\n",
      "QUERY: 1\n",
      "Solve_Expression: 3 + 5\n",
      "Solu: 8\n",
      "\n",
      "QUERY: 2\n",
      "Solve_Expression: 7 * 6\n",
      "Solu: 42\n",
      "\n",
      "QUERY: 3\n",
      "Solve_Expression: 20 / 5\n",
      "Solu: 4.0\n",
      "\n",
      "QUERY: 4\n",
      "Solve_Expression: 20 / 4\n",
      "Solu: 5.0\n",
      "\n",
      "QUERY: 5\n",
      "Solve_Expression: 15 - 7\n",
      "Solu: 8\n",
      "\n",
      "QUERY: 6\n",
      "Solve_Expression: 9 * 9\n",
      "Solu: 81\n",
      "\n",
      "QUERY: 7\n",
      "Solve_Expression: 27 / 9\n",
      "Solu: 3.0\n",
      "\n",
      "QUERY: 8\n",
      "Solve_Expression: 100 - 56\n",
      "Solu: 44\n",
      "\n",
      "QUERY: 9\n",
      "Solve_Expression: 14 + 26\n",
      "Solu: 40\n",
      "\n",
      "QUERY: 10\n",
      "Solve_Expression: 64 / 8\n",
      "Solu: 8.0\n"
     ]
    }
   ],
   "source": [
    "import requests\n",
    "import json\n",
    "url = \"https://michaelgathara.com/api/python-challenge\"\n",
    "retrievable = requests.get(url)\n",
    "summons = retrievable.json()\n",
    "print(\"Name: SANDEEP VANAPARTHI\")\n",
    "print(\"Blazer ID: SVANAPAR\\n\")\n",
    "print(summons)\n",
    "\n",
    "for snag in summons:\n",
    "    snag_id = snag['id']\n",
    "    assertion = snag['problem']\n",
    "    assertion = assertion.rstrip('?')\n",
    "    print(\"\\nQUERY:\", snag_id)\n",
    "    print(\"Solve_Expression:\", assertion)\n",
    "    try:\n",
    "        solution = eval(assertion)\n",
    "        print(\"Solu:\", solution)\n",
    "    except SyntaxError:\n",
    "        print(\"Expression cannot be solved\")"
   ]
  },
  {
   "cell_type": "code",
   "execution_count": null,
   "id": "481eb112",
   "metadata": {},
   "outputs": [],
   "source": []
  }
 ],
 "metadata": {
  "kernelspec": {
   "display_name": "Python 3 (ipykernel)",
   "language": "python",
   "name": "python3"
  },
  "language_info": {
   "codemirror_mode": {
    "name": "ipython",
    "version": 3
   },
   "file_extension": ".py",
   "mimetype": "text/x-python",
   "name": "python",
   "nbconvert_exporter": "python",
   "pygments_lexer": "ipython3",
   "version": "3.9.13"
  }
 },
 "nbformat": 4,
 "nbformat_minor": 5
}
